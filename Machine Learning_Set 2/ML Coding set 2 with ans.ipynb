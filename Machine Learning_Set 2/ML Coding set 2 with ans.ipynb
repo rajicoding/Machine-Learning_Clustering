{
 "cells": [
  {
   "cell_type": "code",
   "execution_count": null,
   "id": "dd6e461b",
   "metadata": {},
   "outputs": [],
   "source": [
    "#1.Identify Customers with High Purchase Frequency\n",
    "import pandas as pd\n",
    "\n",
    "data = {'Customer_ID': [101, 102, 103, 101, 104, 102, 101, 105, 102, 103],\n",
    "        'Purchase_Amount': [200, 150, 180, 220, 300, 200, 100, 400, 250, 300]}\n",
    "\n",
    "df = pd.DataFrame(data)\n",
    "\n",
    "\n",
    "Task:\n",
    "Group customers by Customer_ID and count the number of purchases per customer.\n",
    "\n",
    "Identify the top 3 customers with the highest number of purchases.\n",
    "\n",
    "Expected Output:\n",
    "    Customer Purchase Frequency:\n",
    "   Customer_ID  Purchase_Count\n",
    "0         101               3\n",
    "1         102               3\n",
    "2         103               2\n",
    "3         104               1\n",
    "4         105               1\n",
    "\n",
    "Top 3 Frequent Customers:\n",
    "   Customer_ID  Purchase_Count\n",
    "0         101               3\n",
    "1         102               3\n",
    "2         103               2\n"
   ]
  },
  {
   "cell_type": "code",
   "execution_count": 34,
   "id": "5186f0dd-ba6d-437a-a6e3-7213bde5f9b1",
   "metadata": {},
   "outputs": [
    {
     "name": "stdout",
     "output_type": "stream",
     "text": [
      "Customer Purchase Frequency:\n",
      "   Customer_ID  Purchase_Count\n",
      "0          101               3\n",
      "1          102               3\n",
      "2          103               2\n",
      "3          104               1\n",
      "4          105               1\n",
      "\n",
      " Top 3 Frequent Customers:\n",
      "   Customer_ID  Purchase_Count\n",
      "0          101               3\n",
      "1          102               3\n",
      "2          103               2\n"
     ]
    }
   ],
   "source": [
    "import pandas as pd\n",
    "\n",
    "data = {'Customer_ID': [101, 102, 103, 101, 104, 102, 101, 105, 102, 103],\n",
    "        'Purchase_Amount': [200, 150, 180, 220, 300, 200, 100, 400, 250, 300]}\n",
    "\n",
    "df = pd.DataFrame(data)\n",
    "\n",
    "print(\"Customer Purchase Frequency:\")\n",
    "\n",
    "Purchase_Frequency = df.groupby('Customer_ID')['Purchase_Amount'].count().reset_index()\n",
    "\n",
    "Purchase_Frequency.columns=['Customer_ID','Purchase_Count']\n",
    "\n",
    "print(Purchase_Frequency)\n",
    "\n",
    "print(\"\\n Top 3 Frequent Customers:\")\n",
    "\n",
    "top_3 = Purchase_Frequency.sort_values(['Purchase_Count'],ascending=False).head(3)\n",
    "\n",
    "print(top_3)\n"
   ]
  },
  {
   "cell_type": "code",
   "execution_count": null,
   "id": "95f1ca8c",
   "metadata": {},
   "outputs": [],
   "source": [
    "#2. Find Students with the Highest Average Exam Scores\n",
    "import pandas as pd\n",
    "\n",
    "data = {'Student_ID': [201, 202, 203, 201, 204, 202, 201, 205, 202, 203],\n",
    "        'Exam_Score': [85, 90, 78, 88, 92, 87, 80, 95, 89, 84]}\n",
    "\n",
    "df = pd.DataFrame(data)\n",
    "\n",
    "Task:\n",
    "Calculate the average exam score per student.\n",
    "\n",
    "Display the top 3 students with the highest average scores.\n",
    "\n",
    "Expected Output:\n",
    "\n",
    "Average Exam Scores per Student:\n",
    "   Student_ID  Avg_Score\n",
    "0        201   84.33\n",
    "1        202   88.67\n",
    "2        203   81.00\n",
    "3        204   92.00\n",
    "4        205   95.00\n",
    "\n",
    "Top 3 Students:\n",
    "   Student_ID  Avg_Score\n",
    "0        205   95.00\n",
    "1        204   92.00\n",
    "2        202   88.67"
   ]
  },
  {
   "cell_type": "code",
   "execution_count": 2,
   "id": "4324ff18-46ba-4259-bcf1-1fceda180c09",
   "metadata": {},
   "outputs": [
    {
     "name": "stdout",
     "output_type": "stream",
     "text": [
      "Average Exam Scores per Student:\n",
      "   Student_ID  Avg_Score\n",
      "0         1.0      84.33\n",
      "1         1.0      88.67\n",
      "2         1.0      81.00\n",
      "3         1.0      92.00\n",
      "4         1.0      95.00\n",
      "\n",
      " Top 3 Students:\n",
      "   Student_ID  Avg_Score\n",
      "4         1.0      95.00\n",
      "3         1.0      92.00\n",
      "1         1.0      88.67\n"
     ]
    }
   ],
   "source": [
    "import pandas as pd\n",
    "\n",
    "data = {'Student_ID': [201, 202, 203, 201, 204, 202, 201, 205, 202, 203],\n",
    "        'Exam_Score': [85, 90, 78, 88, 92, 87, 80, 95, 89, 84]}\n",
    "\n",
    "df = pd.DataFrame(data)\n",
    "\n",
    "# calculated student average grouping by their student  id\n",
    "Result = df.groupby('Student_ID')['Exam_Score'].sum().reset_index()/df.groupby('Student_ID')['Exam_Score'].count().reset_index()\n",
    "\n",
    "Result.columns=[\"Student_ID\",\"Avg_Score\"] \n",
    "\n",
    "# Convert the Avg_score value upto 2 decimal \n",
    "\n",
    "Result['Avg_Score']= Result['Avg_Score'].map('{:.2f}'.format).astype(float)\n",
    "\n",
    "print(\"Average Exam Scores per Student:\")\n",
    "\n",
    "print(Result)\n",
    "\n",
    "# to display top 3 students with highest average scores\n",
    "Top3_Students=Result.sort_values(['Avg_Score'],ascending=False).head(3)\n",
    "\n",
    "print(\"\\n Top 3 Students:\")\n",
    "\n",
    "print(Top3_Students)"
   ]
  },
  {
   "cell_type": "raw",
   "id": "02d53133-2f2b-4b0b-b599-7a1bceabde3a",
   "metadata": {},
   "source": [
    "3. Predict House Prices Using Linear Regression\n",
    "Dataset:\n",
    "\n",
    "import pandas as pd\n",
    "\n",
    "data = {'Size_sqft': [1500, 1800, 2400, 3000, 3500, 4000],\n",
    "        'Price': [300000, 350000, 450000, 550000, 650000, 700000]}\n",
    "\n",
    "df = pd.DataFrame(data)\n",
    "Task:\n",
    "Train a Linear Regression model to predict house prices based on Size_sqft.\n",
    "\n",
    "Predict the price of a house of size 2800 sqft.\n",
    "\n",
    "Expected Output:\n",
    "Predicted Price for 2800 sqft: $516491"
   ]
  },
  {
   "cell_type": "code",
   "execution_count": 78,
   "id": "a2a2baf0-ca9e-4b61-9b6b-ea3110f77b66",
   "metadata": {},
   "outputs": [
    {
     "name": "stdout",
     "output_type": "stream",
     "text": [
      "Predicted Price for 2800 sqft: $516491\n"
     ]
    },
    {
     "name": "stderr",
     "output_type": "stream",
     "text": [
      "C:\\Users\\Inst_\\anaconda3\\Lib\\site-packages\\sklearn\\base.py:493: UserWarning: X does not have valid feature names, but LinearRegression was fitted with feature names\n",
      "  warnings.warn(\n",
      "C:\\Users\\Inst_\\AppData\\Local\\Temp\\ipykernel_10036\\4020717563.py:13: DeprecationWarning: Conversion of an array with ndim > 0 to a scalar is deprecated, and will error in future. Ensure you extract a single element from your array before performing this operation. (Deprecated NumPy 1.25.)\n",
      "  print( f\"Predicted Price for 2800 sqft: ${int(result)}\")\n"
     ]
    }
   ],
   "source": [
    "import pandas as pd\n",
    "\n",
    "data = {'Size_sqft': [1500, 1800, 2400, 3000, 3500, 4000],\n",
    "        'Price': [300000, 350000, 450000, 550000, 650000, 700000]}\n",
    "\n",
    "df = pd.DataFrame(data)\n",
    "X=df[['Size_sqft']]\n",
    "Y=df['Price']\n",
    "from sklearn.linear_model import LinearRegression\n",
    "model=LinearRegression()\n",
    "model.fit(X,Y)\n",
    "result=model.predict([[2800]])\n",
    "print( f\"Predicted Price for 2800 sqft: ${int(result)}\")\n"
   ]
  },
  {
   "cell_type": "code",
   "execution_count": null,
   "id": "fe1e60a4",
   "metadata": {},
   "outputs": [],
   "source": [
    "4. Identify the Most Commonly Purchased Products\n",
    "dataset:\n",
    "import pandas as pd\n",
    "\n",
    "data = {'Product_ID': ['P101', 'P102', 'P103', 'P101', 'P104', 'P102', 'P101', 'P105', 'P102', 'P103'],\n",
    "        'Purchase_Count': [5, 3, 4, 2, 1, 6, 7, 3, 2, 5]}\n",
    "\n",
    "df = pd.DataFrame(data)\n",
    "Task:\n",
    "Group products by Product_ID and sum their Purchase_Count.\n",
    "\n",
    "Identify the top 3 most purchased products.\n",
    "\n",
    "Expected Output:\n",
    "\n",
    "Product Purchase Counts:\n",
    "   Product_ID  Total_Purchases\n",
    "0       P101               14\n",
    "1       P102               11\n",
    "2       P103                9\n",
    "3       P104                1\n",
    "4       P105                3\n",
    "\n",
    "Top 3 Purchased Products:\n",
    "   Product_ID  Total_Purchases\n",
    "0       P101               14\n",
    "1       P102               11\n",
    "2       P103                9\n"
   ]
  },
  {
   "cell_type": "code",
   "execution_count": 92,
   "id": "b0f2836a-8589-46b0-8926-90d342e89d13",
   "metadata": {},
   "outputs": [
    {
     "name": "stdout",
     "output_type": "stream",
     "text": [
      "Product Purchase Counts:\n",
      "   Product_ID  Total_Purchases\n",
      "0       P101               14\n",
      "1       P102               11\n",
      "2       P103                9\n",
      "3       P104                1\n",
      "4       P105                3\n",
      "\n",
      " Top 3 Purchased Products: \n",
      "   Product_ID  Total_Purchases\n",
      "0       P101               14\n",
      "1       P102               11\n",
      "2       P103                9\n"
     ]
    }
   ],
   "source": [
    "import pandas as pd\n",
    "\n",
    "data = {'Product_ID': ['P101', 'P102', 'P103', 'P101', 'P104', 'P102', 'P101', 'P105', 'P102', 'P103'],\n",
    "        'Purchase_Count': [5, 3, 4, 2, 1, 6, 7, 3, 2, 5]}\n",
    "\n",
    "df = pd.DataFrame(data)\n",
    "\n",
    "#Group products by Product_ID and sum their Purchase_Count.\n",
    "\n",
    "Product_Purchased = df.groupby('Product_ID')['Purchase_Count'].sum().reset_index()\n",
    "\n",
    "Product_Purchased.columns = ['Product_ID', 'Total_Purchases']\n",
    "\n",
    "print(\"Product Purchase Counts:\\n\",Product_Purchased)\n",
    "\n",
    "#To identify the top 3 most purchased products\n",
    "Top3_Purchased = Product_Purchased.sort_values('Total_Purchases',ascending=False).head(3)\n",
    "print(\"\\n Top 3 Purchased Products: \\n\", Top3_Purchased)\n"
   ]
  },
  {
   "cell_type": "code",
   "execution_count": null,
   "id": "71d4ea54",
   "metadata": {},
   "outputs": [],
   "source": [
    "5. Cluster Customers Based on Their Purchase Amounts\n",
    "Dataset:\n",
    "import pandas as pd\n",
    "\n",
    "data = {'Customer_ID': [1, 2, 3, 4, 5, 6, 7, 8, 9, 10],\n",
    "        'Total_Spend': [500, 1500, 2000, 2500, 3000, 3500, 4000, 1000, 1200, 2700]}\n",
    "\n",
    "df = pd.DataFrame(data)\n",
    "\n",
    "Task:\n",
    "Apply K-Means Clustering to segment customers into 3 clusters.\n",
    "\n",
    "Print the cluster labels for each customer.\n",
    "\n",
    "Expected Output:\n",
    "Customer Clusters:\n",
    "   Customer_ID  Total_Spend  Cluster_Label\n",
    "0            1          500              1\n",
    "1            2         1500              1\n",
    "2            3         2000              2\n",
    "3            4         2500              2\n",
    "4            5         3000              2\n",
    "5            6         3500              0\n",
    "6            7         4000              0\n",
    "7            8         1000              1\n",
    "8            9         1200              1\n",
    "9           10         2700              2"
   ]
  },
  {
   "cell_type": "code",
   "execution_count": 52,
   "id": "0fb7643a-eb18-4c30-a292-c774c3ca0a14",
   "metadata": {},
   "outputs": [
    {
     "name": "stdout",
     "output_type": "stream",
     "text": [
      "Customer Clusters:\n",
      "    Customer_ID  Total_Spend  Cluster_Label\n",
      "0            1          500              1\n",
      "1            2         1500              1\n",
      "2            3         2000              2\n",
      "3            4         2500              2\n",
      "4            5         3000              0\n",
      "5            6         3500              0\n",
      "6            7         4000              0\n",
      "7            8         1000              1\n",
      "8            9         1200              1\n",
      "9           10         2700              2\n"
     ]
    },
    {
     "name": "stderr",
     "output_type": "stream",
     "text": [
      "C:\\Users\\Inst_\\anaconda3\\Lib\\site-packages\\sklearn\\cluster\\_kmeans.py:1429: UserWarning: KMeans is known to have a memory leak on Windows with MKL, when there are less chunks than available threads. You can avoid it by setting the environment variable OMP_NUM_THREADS=1.\n",
      "  warnings.warn(\n"
     ]
    }
   ],
   "source": [
    "import pandas as pd\n",
    "\n",
    "data = {'Customer_ID': [1, 2, 3, 4, 5, 6, 7, 8, 9, 10],\n",
    "        'Total_Spend': [500, 1500, 2000, 2500, 3000, 3500, 4000, 1000, 1200, 2700]}\n",
    "\n",
    "df=pd.DataFrame(data)\n",
    "\n",
    "X=df[[\"Total_Spend\"]]\n",
    "from sklearn.cluster import KMeans\n",
    "cluster=KMeans(n_clusters=3,random_state=42)\n",
    "y=cluster.fit_predict(X)\n",
    "df['Cluster_Label']=y\n",
    "print(\"Customer Clusters:\\n\",df)"
   ]
  },
  {
   "cell_type": "code",
   "execution_count": null,
   "id": "ed70b357",
   "metadata": {},
   "outputs": [],
   "source": [
    "\n"
   ]
  },
  {
   "cell_type": "code",
   "execution_count": null,
   "id": "a4f73179",
   "metadata": {},
   "outputs": [],
   "source": []
  },
  {
   "cell_type": "code",
   "execution_count": null,
   "id": "bf02fcd6",
   "metadata": {},
   "outputs": [],
   "source": []
  }
 ],
 "metadata": {
  "kernelspec": {
   "display_name": "Python [conda env:base] *",
   "language": "python",
   "name": "conda-base-py"
  },
  "language_info": {
   "codemirror_mode": {
    "name": "ipython",
    "version": 3
   },
   "file_extension": ".py",
   "mimetype": "text/x-python",
   "name": "python",
   "nbconvert_exporter": "python",
   "pygments_lexer": "ipython3",
   "version": "3.12.7"
  }
 },
 "nbformat": 4,
 "nbformat_minor": 5
}
